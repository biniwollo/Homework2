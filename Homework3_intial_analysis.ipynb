{
  "cells": [
    {
      "cell_type": "markdown",
      "metadata": {
        "id": "view-in-github",
        "colab_type": "text"
      },
      "source": [
        "<a href=\"https://colab.research.google.com/github/biniwollo/Homework2/blob/main/Homework3_intial_analysis.ipynb\" target=\"_parent\"><img src=\"https://colab.research.google.com/assets/colab-badge.svg\" alt=\"Open In Colab\"/></a>"
      ]
    },
    {
      "cell_type": "markdown",
      "source": [
        "Start with the base data - MNIST.\n",
        "Conduct an initial data analysis - develop appropriate visualizations - just because you can make a graph doesn't mean you should.\n",
        "\n",
        "Import the necessary libraries:"
      ],
      "metadata": {
        "id": "SVnA4oJ8xjZ1"
      }
    },
    {
      "cell_type": "code",
      "source": [
        "import numpy as np\n",
        "import matplotlib.pyplot as plt\n",
        "from sklearn.datasets import fetch_openml"
      ],
      "metadata": {
        "id": "zNVE-_Gmz8az"
      },
      "execution_count": null,
      "outputs": []
    },
    {
      "cell_type": "code",
      "source": [
        "\n",
        "# Load the MNIST dataset\n",
        "mnist = fetch_openml('mnist_784', version=1)\n",
        "X = mnist.data.values\n",
        "y = mnist.target.values.astype('int')\n",
        "\n"
      ],
      "metadata": {
        "id": "cxKkhvPrz8QH"
      },
      "execution_count": null,
      "outputs": []
    },
    {
      "cell_type": "code",
      "source": [
        "# Perform basic data exploration\n",
        "num_samples, num_features = X.shape\n",
        "print(f\"Number of samples: {num_samples}\")\n",
        "print(f\"Number of features: {num_features}\")\n",
        "\n",
        "unique_labels = np.unique(y)\n",
        "print(\"Unique labels:\", unique_labels)\n",
        "\n",
        "\n"
      ],
      "metadata": {
        "id": "wv6ROYE7yyeQ"
      },
      "execution_count": null,
      "outputs": []
    },
    {
      "cell_type": "code",
      "source": [
        "# Visualize the data\n",
        "plt.figure(figsize=(8, 5))\n",
        "plt.hist(y, bins=len(unique_labels))\n",
        "plt.xticks(unique_labels)\n",
        "plt.xlabel('Label')\n",
        "plt.ylabel('Count')\n",
        "plt.title('Distribution of Labels')\n",
        "plt.show()\n",
        "\n",
        "num_classes = len(unique_labels)\n",
        "subset_size = 5\n",
        "\n",
        "plt.figure(figsize=(10, 10))\n",
        "for i, label in enumerate(unique_labels):\n",
        "    indices = np.where(y == label)[0][:subset_size]\n",
        "    for j, idx in enumerate(indices):\n",
        "        plt_idx = i * subset_size + j + 1\n",
        "        plt.subplot(num_classes, subset_size, plt_idx)\n",
        "        plt.imshow(X[idx].reshape(28, 28), cmap='gray')\n",
        "        plt.axis('off')\n",
        "        if j == 0:\n",
        "            plt.title(str(label))\n",
        "plt.suptitle('MNIST Dataset - Sample Images')\n",
        "plt.tight_layout()\n",
        "plt.show()"
      ],
      "metadata": {
        "id": "g_JD1Dumy00N"
      },
      "execution_count": null,
      "outputs": []
    },
    {
      "cell_type": "markdown",
      "source": [
        "The above code will provide you with a basic data exploration and visualization of the MNIST dataset. It displays the number of samples and features in the dataset, shows the distribution of labels using a histogram, and presents a subset of sample images from each class.\n",
        "\n",
        "Please note that displaying all the images in the dataset may not be feasible due to the large number of samples. The code provided selects a subset of images (defined by subset_size) from each class for visualization purposes.\n",
        "\n",
        "Remember, visualizations should be used judiciously and based on the specific goals of your analysis."
      ],
      "metadata": {
        "id": "EZkcFlClyHbH"
      }
    },
    {
      "cell_type": "code",
      "source": [],
      "metadata": {
        "id": "oMKybNd5yF4Z"
      },
      "execution_count": null,
      "outputs": []
    }
  ],
  "metadata": {
    "colab": {
      "name": "Welcome To Colaboratory",
      "toc_visible": true,
      "provenance": [],
      "include_colab_link": true
    },
    "kernelspec": {
      "display_name": "Python 3",
      "name": "python3"
    }
  },
  "nbformat": 4,
  "nbformat_minor": 0
}