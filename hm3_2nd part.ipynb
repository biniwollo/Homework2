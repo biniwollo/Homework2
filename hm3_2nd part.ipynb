{
  "cells": [
    {
      "cell_type": "markdown",
      "metadata": {
        "id": "view-in-github",
        "colab_type": "text"
      },
      "source": [
        "<a href=\"https://colab.research.google.com/github/biniwollo/Homework2/blob/main/hm3_2nd%20part.ipynb\" target=\"_parent\"><img src=\"https://colab.research.google.com/assets/colab-badge.svg\" alt=\"Open In Colab\"/></a>"
      ]
    },
    {
      "cell_type": "code",
      "source": [
        "import numpy as np\n",
        "import matplotlib.pyplot as plt\n",
        "from sklearn.datasets import fetch_openml\n",
        "from sklearn.model_selection import train_test_split\n",
        "from sklearn.preprocessing import StandardScaler\n",
        "from sklearn.linear_model import LogisticRegression\n",
        "from sklearn.svm import SVC\n",
        "from sklearn.ensemble import RandomForestClassifier\n",
        "from sklearn.metrics import accuracy_score, classification_report\n",
        "\n",
        "#Load the MNIST dataset and preprocess the data:\n",
        "\n",
        "mnist = fetch_openml('mnist_784')\n",
        "X = mnist.data\n",
        "y = mnist.target.astype('int')\n",
        "\n",
        "# Split the data into training and test sets\n",
        "X_train, X_test, y_train, y_test = train_test_split(X, y, test_size=0.2, random_state=42)\n",
        "\n",
        "# Scale the features using StandardScaler\n",
        "scaler = StandardScaler()\n",
        "X_train = scaler.fit_transform(X_train)\n",
        "X_test = scaler.transform(X_test)\n",
        "\n",
        "#Define and train the classification models:\n",
        "# Logistic Regression\n",
        "logreg = LogisticRegression(max_iter=1000)\n",
        "logreg.fit(X_train, y_train)\n",
        "\n",
        "# Support Vector Machine\n",
        "svm = SVC()\n",
        "svm.fit(X_train, y_train)\n",
        "\n",
        "# Random Forest\n",
        "rf = RandomForestClassifier()\n",
        "rf.fit(X_train, y_train)\n",
        "\n",
        "#Evaluate the models on the test set and answer the questions:\n",
        "# Predict labels for the test set\n",
        "logreg_pred = logreg.predict(X_test)\n",
        "svm_pred = svm.predict(X_test)\n",
        "rf_pred = rf.predict(X_test)\n",
        "\n",
        "# Calculate accuracy scores\n",
        "logreg_accuracy = accuracy_score(y_test, logreg_pred)\n",
        "svm_accuracy = accuracy_score(y_test, svm_pred)\n",
        "rf_accuracy = accuracy_score(y_test, rf_pred)\n",
        "\n",
        "# Print the accuracy scores\n",
        "print(f\"Accuracy - Logistic Regression: {logreg_accuracy:.4f}\")\n",
        "print(f\"Accuracy - Support Vector Machine: {svm_accuracy:.4f}\")\n",
        "print(f\"Accuracy - Random Forest: {rf_accuracy:.4f}\")\n",
        "\n",
        "# Compare the classification reports\n",
        "print(\"Classification Report - Logistic Regression:\")\n",
        "print(classification_report(y_test, logreg_pred))\n",
        "\n",
        "print(\"Classification Report - Support Vector Machine:\")\n",
        "print(classification_report(y_test, svm_pred))\n",
        "\n",
        "print(\"Classification Report - Random Forest:\")\n",
        "print(classification_report(y_test, rf_pred))\n"
      ],
      "metadata": {
        "id": "EBsNIhU9n-LX"
      },
      "execution_count": null,
      "outputs": []
    }
  ],
  "metadata": {
    "colab": {
      "name": "Welcome To Colaboratory",
      "toc_visible": true,
      "provenance": [],
      "include_colab_link": true
    },
    "kernelspec": {
      "display_name": "Python 3",
      "name": "python3"
    }
  },
  "nbformat": 4,
  "nbformat_minor": 0
}