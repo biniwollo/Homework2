{
  "nbformat": 4,
  "nbformat_minor": 0,
  "metadata": {
    "colab": {
      "provenance": [],
      "toc_visible": true,
      "authorship_tag": "ABX9TyO5lHQy8iJ0Cf11DolqSW3D",
      "include_colab_link": true
    },
    "kernelspec": {
      "name": "python3",
      "display_name": "Python 3"
    },
    "language_info": {
      "name": "python"
    }
  },
  "cells": [
    {
      "cell_type": "markdown",
      "metadata": {
        "id": "view-in-github",
        "colab_type": "text"
      },
      "source": [
        "<a href=\"https://colab.research.google.com/github/biniwollo/Homework2/blob/main/DASHomeworkTwo_Ali.ipynb\" target=\"_parent\"><img src=\"https://colab.research.google.com/assets/colab-badge.svg\" alt=\"Open In Colab\"/></a>"
      ]
    },
    {
      "cell_type": "code",
      "execution_count": null,
      "metadata": {
        "id": "8QjGt18K3Q8K"
      },
      "outputs": [],
      "source": [
        "''' \n",
        "Football Coach Salary Analysis.This code performs an analysis of football coach salaries in college football. \n",
        "It explores the relationship between coach salaries and various factors such as graduation rates and team performance \n",
        "statistics. The code retrieves data on coaches, stadiums, and statistics, merges them into a single data frame, and \n",
        "conducts data preprocessing steps. It then calculates summary statistics, visualizes the data distribution, and examines \n",
        "correlations between variables. The code fits a linear regression model to predict coach salaries based on graduation rates \n",
        "and team performance. It evaluates the model's performance and uses it to answer specific questions, such as recommended salaries \n",
        "and the impact of moving to a different conference. The code provides insights into the factors influencing coach salaries and offers \n",
        "meaningful answers to the questions posed in the analysis. It utilizes libraries such as pandas, numpy, seaborn, matplotlib, statsmodels,\n",
        "and scikit-learn. '''\n",
        "\n",
        "# Author: [Binyam Ali]\n",
        "# Date: [06/10/2023]\n",
        "\n",
        "import numpy as np\n",
        "import pandas as pd\n",
        "\n",
        "# Obtain Data\n",
        "'''\n",
        "#coaches = \"https://raw.githubusercontent.com/biniwollo/Homework2/main/coaches_bp_dsa.csv\"\n",
        "#couch = pd.read_csv(fileLoc)\n",
        "'''\n",
        "\n",
        "coaches = pd.read_csv('https://raw.githubusercontent.com/biniwollo/Homework2/main/coaches_bp_dsa.csv')\n",
        "\n",
        "# examine the structure of the data frame\n",
        "#print(\"\\nContents of coaches data frame ---------------\")\n",
        "#print(pd.DataFrame.head(coaches))\n",
        "\n",
        "stadium = pd.read_csv('https://raw.githubusercontent.com/biniwollo/Homework2/main/stadium_bp_dsa.csv')\n",
        "\n",
        "# examine the structure of the data frame\n",
        "#print(\"\\nContents of stadium data frame ---------------\")\n",
        "#print(pd.DataFrame.head(stadium))\n",
        "\n",
        "stats = pd.read_csv('https://raw.githubusercontent.com/biniwollo/Homework2/main/stats_bp_dsa.csv')\n",
        "\n",
        "# examine the structure of the data frame\n",
        "#print(\"\\nContents of stats data frame ---------------\")\n",
        "#print(pd.DataFrame.head(stats))\n",
        "'''\n",
        "merged_data = pd.merge(coaches,stadium,stats, on='School')\n",
        "print(merged_data)\n",
        "\n",
        "\n",
        "# Merge data frames\n",
        "merged_data = pd.merge(pd.merge(coaches, stadium, on='School'), stats, on='School')\n",
        "\n",
        "print(\"\\nMerged data frame ------------------\")\n",
        "print(merged_data)\n",
        "'''\n",
        "# Handle missing values in coaches data frame\n",
        "coaches.dropna(inplace=True)  # Drop rows with missing values\n",
        "\n",
        "# Handle missing values in stadium data frame\n",
        "stadium.dropna(inplace=True)  # Drop rows with missing values\n",
        "\n",
        "# Handle missing values in stats data frame\n",
        "stats.fillna(0, inplace=True)  # Fill missing values with 0\n",
        "\n",
        "# Merge data frames\n",
        "merged_data = pd.merge(pd.merge(coaches, stadium, on='School'), stats, on='School')\n",
        "\n",
        "\n",
        "# Display the merged data frame\n",
        "print(\"\\nMerged data frame ------------------\")\n",
        "print(merged_data)\n",
        "\n"
      ]
    },
    {
      "cell_type": "code",
      "source": [],
      "metadata": {
        "id": "8Z097Z8sio55"
      },
      "execution_count": null,
      "outputs": []
    },
    {
      "cell_type": "code",
      "source": [],
      "metadata": {
        "id": "53-wMz5-_aEN"
      },
      "execution_count": null,
      "outputs": []
    },
    {
      "cell_type": "code",
      "source": [
        "# scrub data\n",
        "# convert string to an integer\n",
        "\n",
        "# Remove commas and dollar signs from the \"TotalPay\" column\n",
        "#merged_data['TotalPay'] = merged_data['TotalPay'].str.replace(',', '').str.replace('$', '')\n",
        "\n",
        "# Convert the \"TotalPay\" column to integer\n",
        "merged_data['TotalPay'] = merged_data['TotalPay'].astype(int)\n",
        "\n",
        "# Display the updated data frame\n",
        "print(\"\\nUpdated Merged data frame ------------------\")\n",
        "print(merged_data)\n",
        "\n",
        "\n",
        "\n"
      ],
      "metadata": {
        "id": "jLMsitjoBurp"
      },
      "execution_count": null,
      "outputs": []
    },
    {
      "cell_type": "code",
      "source": [
        "# scrub data\n",
        "# convert string to an integer\n",
        "# Merge data frames\n",
        "merged_data = pd.merge(pd.merge(coaches, stadium, on='School'), stats, on='School')\n",
        "\n",
        "# Remove commas and dollar signs from the \"TotalPay\" column\n",
        "#merged_data['TotalPay'] = merged_data['TotalPay'].str.replace(',', '').str.replace('$', '')\n",
        "\n",
        "# Convert the \"TotalPay\" column to integer\n",
        "#merged_data['TotalPay'] = merged_data['TotalPay'].astype(int)\n",
        "\n",
        "# Display the updated data frame\n",
        "print(\"\\nUpdated Merged data frame ------------------\")\n",
        "print(merged_data)\n",
        "\n",
        "\n",
        "\n",
        "# Handle missing values in coaches data frame\n",
        "coaches.dropna(inplace=True)  # Drop rows with missing values\n",
        "\n",
        "# Handle missing values in stadium data frame\n",
        "stadium.dropna(inplace=True)  # Drop rows with missing values\n",
        "\n",
        "# Handle missing values in stats data frame\n",
        "stats.fillna(0, inplace=True)  # Fill missing values with 0\n",
        "\n",
        "\n",
        "\n",
        "\n",
        "# Display the merged data frame\n",
        "print(\"\\nMerged data frame ------------------\")\n",
        "print(merged_data)"
      ],
      "metadata": {
        "id": "nmxVumvjjTNu"
      },
      "execution_count": null,
      "outputs": []
    },
    {
      "cell_type": "code",
      "source": [
        "#Explore Data - summary statistics\n",
        "\n",
        "np.min(coaches[' TotalPay '])"
      ],
      "metadata": {
        "id": "W6ukC17oBws3"
      },
      "execution_count": null,
      "outputs": []
    },
    {
      "cell_type": "code",
      "source": [
        "import numpy as np\n",
        "import pandas as pd\n",
        "\n",
        "# Obtain Data\n",
        "coaches = pd.read_csv('https://raw.githubusercontent.com/biniwollo/Homework2/main/coaches_bp_dsa.csv')\n",
        "stadium = pd.read_csv('https://raw.githubusercontent.com/biniwollo/Homework2/main/stadium_bp_dsa.csv')\n",
        "stats = pd.read_csv('https://raw.githubusercontent.com/biniwollo/Homework2/main/stats_bp_dsa.csv')\n",
        "\n",
        "# Handle missing values in coaches data frame\n",
        "coaches.dropna(inplace=True)  # Drop rows with missing values\n",
        "\n",
        "# Handle missing values in stadium data frame\n",
        "stadium.dropna(inplace=True)  # Drop rows with missing values\n",
        "\n",
        "# Handle missing values in stats data frame\n",
        "stats.fillna(0, inplace=True)  # Fill missing values with 0\n",
        "\n",
        "# Merge data frames\n",
        "merged_data = pd.merge(pd.merge(coaches, stadium, on='School'), stats, on='School')\n",
        "\n",
        "# Display the merged data frame\n",
        "print(\"\\nMerged data frame ------------------\")\n",
        "print(merged_data)\n",
        "\n",
        "# Remove leading and trailing spaces from column names\n",
        "merged_data.columns = merged_data.columns.str.strip()\n",
        "\n",
        "# Remove commas and dollar signs from the \"TotalPay\" column\n",
        "merged_data['TotalPay'] = merged_data['TotalPay'].str.replace(',', '').str.replace('$', '')\n",
        "\n",
        "# Convert the \"TotalPay\" column to integer\n",
        "merged_data['TotalPay'] = merged_data['TotalPay'].astype(int)\n",
        "\n",
        "# Display the updated data frame\n",
        "print(\"\\nUpdated Merged data frame ------------------\")\n",
        "print(merged_data)\n"
      ],
      "metadata": {
        "id": "327CIaFDm5WB"
      },
      "execution_count": null,
      "outputs": []
    },
    {
      "cell_type": "code",
      "source": [
        "# Summary statistics\n",
        "\n",
        "'''This code uses the describe() function of Pandas, which provides summary statistics for numeric columns in a data frame. \n",
        "It includes count, \n",
        "mean, \n",
        "standard deviation,\n",
        "minimum value, \n",
        "25th percentile,\n",
        "median (50th percentile), \n",
        "75th percentile, and maximum value.\n",
        "\n",
        "If you run this code after merging and updating the data frame, it will calculate and display the summary statistics for the numeric columns in the merged_data data frame.\n",
        "'''\n",
        "summary_stats = merged_data.describe()\n",
        "\n",
        "# Display the summary statistics\n",
        "print(\"\\nSummary Statistics ------------------\")\n",
        "print(summary_stats)\n"
      ],
      "metadata": {
        "id": "Ww3Jzw4oo6EL"
      },
      "execution_count": null,
      "outputs": []
    },
    {
      "cell_type": "code",
      "source": [
        "# Compute value counts for a specific column\n",
        "value_counts = merged_data['Conf_x'].value_counts()\n",
        "\n",
        "# Display the value counts\n",
        "print(value_counts)\n"
      ],
      "metadata": {
        "id": "HhsuNb7GrLj_"
      },
      "execution_count": null,
      "outputs": []
    },
    {
      "cell_type": "code",
      "source": [
        "# Compute value counts for a specific column\n",
        "value_counts = merged_data['TotalPay'].value_counts()\n",
        "\n",
        "# Display the value counts\n",
        "print(value_counts)"
      ],
      "metadata": {
        "id": "OsqJ76TGrhCk"
      },
      "execution_count": null,
      "outputs": []
    },
    {
      "cell_type": "code",
      "source": [
        "import seaborn as sns\n",
        "import matplotlib.pyplot as plt\n",
        "\n",
        "# Distribution plot for TotalPay\n",
        "sns.histplot(merged_data['TotalPay'], kde=True)\n",
        "plt.title('Distribution of TotalPay')\n",
        "plt.xlabel('TotalPay')\n",
        "plt.ylabel('Frequency')\n",
        "plt.show()\n",
        "\n",
        "\n"
      ],
      "metadata": {
        "id": "Iv9_VALGsOoh"
      },
      "execution_count": null,
      "outputs": []
    },
    {
      "cell_type": "code",
      "source": [
        "# Distribution plot for Graduation Rate (GSR)\n",
        "sns.histplot(merged_data['Graduation Rate (GSR)'], kde=True)\n",
        "plt.title('Distribution of Graduation Rate (GSR)')\n",
        "plt.xlabel('Graduation Rate (GSR)')\n",
        "plt.ylabel('Frequency')\n",
        "plt.show()"
      ],
      "metadata": {
        "id": "0m0dE60uvZZx"
      },
      "execution_count": null,
      "outputs": []
    },
    {
      "cell_type": "markdown",
      "source": [
        "To explore the relationships between variables, we can use scatter plots, line plots, or correlation matrices. Here's an example of using scatter plots and a correlation matrix to explore relationships in the merged data frame:"
      ],
      "metadata": {
        "id": "S3P870yvtnl8"
      }
    },
    {
      "cell_type": "code",
      "source": [
        "#import seaborn as sns\n",
        "#import matplotlib.pyplot as plt\n",
        "\n",
        "# Scatter plot: TotalPay vs. Graduation Rate (GSR)\n",
        "sns.scatterplot(data=merged_data, x='TotalPay', y='Graduation Rate (GSR)')\n",
        "plt.title('TotalPay vs. Graduation Rate (GSR)')\n",
        "plt.xlabel('TotalPay')\n",
        "plt.ylabel('Graduation Rate (GSR)')\n",
        "plt.show()\n",
        "\n",
        "\n"
      ],
      "metadata": {
        "id": "spM2gQBGt2Jz"
      },
      "execution_count": null,
      "outputs": []
    },
    {
      "cell_type": "code",
      "source": [
        "# Scatter plot: PointsPerGame vs. Score\n",
        "sns.scatterplot(data=merged_data, x='PointsPerGame', y='Score')\n",
        "plt.title('PointsPerGame vs. Score')\n",
        "plt.xlabel('PointsPerGame')\n",
        "plt.ylabel('Score')\n",
        "plt.show()\n",
        "\n"
      ],
      "metadata": {
        "id": "iFAPC5pBvOMk"
      },
      "execution_count": null,
      "outputs": []
    },
    {
      "cell_type": "code",
      "source": [
        "# Correlation matrix\n",
        "correlation_matrix = merged_data[['TotalPay', 'Graduation Rate (GSR)', 'PointsPerGame', 'Score']].corr()\n",
        "sns.heatmap(correlation_matrix, annot=True, cmap='coolwarm')\n",
        "plt.title('Correlation Matrix')\n",
        "plt.show()"
      ],
      "metadata": {
        "id": "EC7JjVwWvSq3"
      },
      "execution_count": null,
      "outputs": []
    },
    {
      "cell_type": "markdown",
      "source": [
        "we use the scikit-learn library to perform linear regression analysis. Here's  perform linear regressionan using scikit-learn to:"
      ],
      "metadata": {
        "id": "PfoONinvxbQD"
      }
    },
    {
      "cell_type": "code",
      "source": [
        "from sklearn.linear_model import LinearRegression\n",
        "from sklearn.model_selection import train_test_split\n",
        "from sklearn.metrics import mean_squared_error, r2_score\n",
        "\n",
        "# Define the dependent variable\n",
        "y = merged_data['TotalPay']\n",
        "\n",
        "# Define the independent variables\n",
        "X = merged_data[['Graduation Rate (GSR)', 'PointsPerGame']]\n",
        "\n",
        "# Split the data into training and test sets\n",
        "X_train, X_test, y_train, y_test = train_test_split(X, y, test_size=0.2, random_state=42)\n",
        "\n",
        "# Create a linear regression model\n",
        "model = LinearRegression()\n",
        "\n",
        "# Fit the model to the training data\n",
        "model.fit(X_train, y_train)\n",
        "\n",
        "# Make predictions on the test data\n",
        "y_pred = model.predict(X_test)\n",
        "\n",
        "# Evaluate the model\n",
        "mse = mean_squared_error(y_test, y_pred)\n",
        "r2 = r2_score(y_test, y_pred)\n",
        "\n",
        "# Print the evaluation metrics\n",
        "print(\"Mean Squared Error:\", mse)\n",
        "print(\"R-squared:\", r2)\n"
      ],
      "metadata": {
        "id": "fUFEUqzqx7As"
      },
      "execution_count": null,
      "outputs": []
    },
    {
      "cell_type": "markdown",
      "source": [],
      "metadata": {
        "id": "Pf_ND9nrxXHU"
      }
    },
    {
      "cell_type": "markdown",
      "source": [
        "To perform regression analysis in Python, we use the statsmodels library or the scikit-learn library. Here's an example of using statsmodels to perform linear regression:"
      ],
      "metadata": {
        "id": "hKzT_Drlwfke"
      }
    },
    {
      "cell_type": "code",
      "source": [
        "import statsmodels.api as sm\n",
        "\n",
        "# Define the dependent variable\n",
        "y = merged_data['TotalPay']\n",
        "\n",
        "# Define the independent variables\n",
        "X = merged_data[['Graduation Rate (GSR)', 'PointsPerGame']]\n",
        "\n",
        "# Add a constant term to the independent variables\n",
        "X = sm.add_constant(X)\n",
        "\n",
        "# Fit the linear regression model\n",
        "model = sm.OLS(y, X).fit()\n",
        "\n",
        "# Print the model summary\n",
        "print(model.summary())"
      ],
      "metadata": {
        "id": "Giak9gGl90Dm"
      },
      "execution_count": null,
      "outputs": []
    },
    {
      "cell_type": "markdown",
      "source": [],
      "metadata": {
        "id": "OMF2DjVE0ly4"
      }
    },
    {
      "cell_type": "markdown",
      "source": [
        "Question 1\n",
        "To address the specific questions regarding the recommended salary for the OU football coach and the appropriate salary if OU moved to the SEC, we can utilize the linear regression model and the insights obtained from the data analysis.\n",
        "\n",
        "First, we need to consider the relevant variables that affect the coach's salary. Based on the regression model, we can examine the coefficients associated with the independent variables to determine their impact on the coach's salary. In this case, let's assume that the independent variables included in the model are the Graduation Rate (GSR) and PointsPerGame.\n",
        "\n",
        "To estimate the recommended salary for the OU football coach, we need to provide values for the independent variables. Let's assume a hypothetical GSR of 80 and a PointsPerGame of 80. We can use these values to predict the coach's salary using the regression model.\n",
        "\n",
        "Here's an example code snippet to predict the salary based on the provided values:"
      ],
      "metadata": {
        "id": "Uhm2pYIl2lXF"
      }
    },
    {
      "cell_type": "code",
      "source": [
        "# OU 2020 -21 graduate rate = 67.5\n",
        "# OU point per game in 2021 = 36\n",
        "\n",
        "\n",
        "# Assume GSR and PointsPerGame values\n",
        "gsr = 67.5\n",
        "ppg = 36\n",
        "\n",
        "# Create a new data point with the assumed values\n",
        "new_data = pd.DataFrame({'Graduation Rate (GSR)': [gsr], 'PointsPerGame': [ppg]})\n",
        "\n",
        "# Predict the salary using the regression model\n",
        "predicted_salary = model.predict(new_data)\n",
        "\n",
        "# Print the predicted salary\n",
        "print(\"Recommended Salary: $\", predicted_salary[0])\n"
      ],
      "metadata": {
        "colab": {
          "base_uri": "https://localhost:8080/"
        },
        "id": "dWyLQXpEzd1z",
        "outputId": "618980d8-d2be-40e8-d9c3-5508eea315a9"
      },
      "execution_count": 73,
      "outputs": [
        {
          "output_type": "stream",
          "name": "stdout",
          "text": [
            "Recommended Salary: $ 1568727.5348648978\n"
          ]
        }
      ]
    },
    {
      "cell_type": "markdown",
      "source": [
        "The recommended salary for the OU football coatch assuming/using gsr 2020 - 2021(67.5) and ppg of 2021(36) is $ 1568727.5348"
      ],
      "metadata": {
        "id": "v2euY8Rp1ESE"
      }
    },
    {
      "cell_type": "markdown",
      "source": [
        "Question 2\n",
        "\n",
        "To determine the appropriate salary for the OU football coach if they moved to the SEC, we can follow a similar approach as described earlier. We would assume values for the independent variables that represent the characteristics of the SEC conference and use the regression model to predict the corresponding salary.\n",
        "\n",
        "Since we don't have specific information about the values for the independent variables in the SEC, we can provide a general example. Let's assume a hypothetical scenario where the average Graduation Rate (GSR) in the SEC is 85 and the average PointsPerGame is 85. We can use these values to predict the salary using the regression model.\n",
        "\n",
        "Here's an example code snippet:"
      ],
      "metadata": {
        "id": "lVsYMRvt2ZxL"
      }
    },
    {
      "cell_type": "code",
      "source": [
        "# Assume average GSR and PointsPerGame values for the SEC\n",
        "avg_gsr_sec = 85\n",
        "avg_ppg_sec = 85\n",
        "\n",
        "# Create a new data point with the assumed SEC values\n",
        "sec_data = pd.DataFrame({'Graduation Rate (GSR)': [avg_gsr_sec], 'PointsPerGame': [avg_ppg_sec]})\n",
        "\n",
        "# Predict the salary using the regression model\n",
        "predicted_salary_sec = model.predict(sec_data)\n",
        "\n",
        "# Print the predicted salary for the SEC scenario\n",
        "print(\"Appropriate Salary in SEC: $\", predicted_salary_sec[0])\n"
      ],
      "metadata": {
        "colab": {
          "base_uri": "https://localhost:8080/"
        },
        "id": "2itsLQSe2crL",
        "outputId": "f249b4ff-350e-4d62-8d56-7e592c10571d"
      },
      "execution_count": 74,
      "outputs": [
        {
          "output_type": "stream",
          "name": "stdout",
          "text": [
            "Appropriate Salary in SEC: $ 3321223.6556633743\n"
          ]
        }
      ]
    },
    {
      "cell_type": "markdown",
      "source": [
        "By plugging in the assumed average GSR and PointsPerGame values for the SEC into the regression model, we can estimate the appropriate salary for the OU football coach in the SEC. The predicted_salary_sec variable will contain the estimated salary based on the assumed values.\n",
        "\n",
        "It's important to note that these predictions are based on assumptions and the regression model built using the available data. The accuracy of the predictions and the appropriateness of the salary estimation in the SEC depend on the quality and representativeness of the data, as well as the assumptions made. Further analysis and consideration of other relevant factors would be necessary to make a more precise determination of the appropriate salary if OU moved to the SEC."
      ],
      "metadata": {
        "id": "I-JKJhpA3Rg9"
      }
    },
    {
      "cell_type": "markdown",
      "source": [
        "Question 3\n",
        "Based on the provided code, it appears that missing values were dropped from the data frames to handle missing data. However, it does not explicitly mention the specific schools that were dropped. To identify the dropped schools, we would need to examine the original data frames before handling missing values.\n",
        "\n",
        "In the given code, three data frames were used: coaches, stadium, and stats. The missing values were dropped from each data frame using the dropna() function. The dropped rows would contain missing values in one or more columns.\n",
        "\n",
        "To determine the dropped schools, we can compare the number of rows in the original data frames with the number of rows in the merged data frame after handling missing values. The dropped schools would correspond to the missing rows in the merged data frame.\n",
        "\n",
        "Here's an example code snippet to identify the dropped schools:"
      ],
      "metadata": {
        "id": "jAL1bqzm5L90"
      }
    },
    {
      "cell_type": "code",
      "source": [
        "# Get the number of rows in the original data frames\n",
        "coaches_rows = coaches.shape[0]\n",
        "stadium_rows = stadium.shape[0]\n",
        "stats_rows = stats.shape[0]\n",
        "\n",
        "# Get the number of rows in the merged data frame\n",
        "merged_rows = merged_data.shape[0]\n",
        "\n",
        "# Identify the dropped schools\n",
        "dropped_schools = coaches_rows + stadium_rows + stats_rows - merged_rows\n",
        "\n",
        "# Print the dropped schools\n",
        "print(\"Dropped Schools:\")\n",
        "print(dropped_schools)\n"
      ],
      "metadata": {
        "colab": {
          "base_uri": "https://localhost:8080/"
        },
        "id": "P6VWQI4-4N51",
        "outputId": "120721c0-5d0b-4851-c03f-25acdef7144d"
      },
      "execution_count": 75,
      "outputs": [
        {
          "output_type": "stream",
          "name": "stdout",
          "text": [
            "Dropped Schools:\n",
            "236\n"
          ]
        }
      ]
    },
    {
      "cell_type": "markdown",
      "source": [],
      "metadata": {
        "id": "bXX-W4WN5HI_"
      }
    },
    {
      "cell_type": "markdown",
      "source": [
        "This code snippet calculates the difference in the number of rows between the original data frames and the merged data frame. The resulting value represents the number of dropped schools. However, please note that without access to the specific datasets, we cannot provide the exact names or reasons for dropping the schools. You would need to examine the original data to determine the specific schools that were dropped and the reasons for their exclusion."
      ],
      "metadata": {
        "id": "56pQsR7r5Pso"
      }
    },
    {
      "cell_type": "code",
      "source": [],
      "metadata": {
        "id": "H8EHfW_g3O0A"
      },
      "execution_count": null,
      "outputs": []
    },
    {
      "cell_type": "markdown",
      "source": [
        "Question 4\n",
        "\n",
        "To determine the single biggest impact on salary size, you can look at the coefficient values from the linear regression model. The coefficient represents the change in the dependent variable (salary) for a unit change in the corresponding independent variable while holding other variables constant.\n",
        "\n",
        "Here's the updated code to identify the variable with the largest impact on salary size:"
      ],
      "metadata": {
        "id": "UdL-sN3W5a5e"
      }
    },
    {
      "cell_type": "code",
      "source": [
        "# Extract the coefficients from the linear regression model\n",
        "coefficients = model.coef_\n",
        "\n",
        "# Get the feature names from the X dataframe\n",
        "feature_names = X.columns\n",
        "\n",
        "# Create a dictionary with variable names and their coefficients\n",
        "coefficients_dict = dict(zip(feature_names, coefficients))\n",
        "\n",
        "# Sort the coefficients in descending order based on their absolute values\n",
        "sorted_coefficients = sorted(coefficients_dict.items(), key=lambda x: abs(x[1]), reverse=True)\n",
        "\n",
        "# Print the variable with the largest impact on salary size\n",
        "print(\"Variable with the largest impact on salary size:\")\n",
        "print(sorted_coefficients[0])\n"
      ],
      "metadata": {
        "colab": {
          "base_uri": "https://localhost:8080/"
        },
        "id": "efUUs9Ln7fnG",
        "outputId": "04e2b7f5-5c1e-4606-c04d-daa1fcb55538"
      },
      "execution_count": 79,
      "outputs": [
        {
          "output_type": "stream",
          "name": "stdout",
          "text": [
            "Variable with the largest impact on salary size:\n",
            "('PointsPerGame', 28196.357091131875)\n"
          ]
        }
      ]
    },
    {
      "cell_type": "markdown",
      "source": [
        "The code above will print the variable name with the largest impact on salary size, along with its corresponding coefficient. The variable with the largest absolute coefficient value indicates the independent variable that has the biggest impact on the salary size.\n",
        "\n",
        "Note: Make sure you have already executed the previous code blocks for linear regression analysis before running this code."
      ],
      "metadata": {
        "id": "75OL-Hej8eBP"
      }
    }
  ]
}