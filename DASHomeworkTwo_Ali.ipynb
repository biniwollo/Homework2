{
  "nbformat": 4,
  "nbformat_minor": 0,
  "metadata": {
    "colab": {
      "provenance": [],
      "toc_visible": true,
      "authorship_tag": "ABX9TyO7W24CJXroQMSNo1RQJOve",
      "include_colab_link": true
    },
    "kernelspec": {
      "name": "python3",
      "display_name": "Python 3"
    },
    "language_info": {
      "name": "python"
    }
  },
  "cells": [
    {
      "cell_type": "markdown",
      "metadata": {
        "id": "view-in-github",
        "colab_type": "text"
      },
      "source": [
        "<a href=\"https://colab.research.google.com/github/biniwollo/Homework2/blob/main/DASHomeworkTwo_Ali.ipynb\" target=\"_parent\"><img src=\"https://colab.research.google.com/assets/colab-badge.svg\" alt=\"Open In Colab\"/></a>"
      ]
    },
    {
      "cell_type": "markdown",
      "source": [
        "Football Coach Salary Analysis.This code performs an analysis of football coach salaries in college football. \n",
        "It explores the relationship between coach salaries and various factors such as graduation rates and team performance \n",
        "statistics. The code retrieves data on coaches, stadiums, and statistics, merges them into a single data frame, and \n",
        "conducts data preprocessing steps. It then calculates summary statistics, visualizes the data distribution, and examines \n",
        "correlations between variables. The code fits a linear regression model to predict coach salaries based on graduation rates \n",
        "and team performance. It evaluates the model's performance and uses it to answer specific questions, such as recommended salaries \n",
        "and the impact of moving to a different conference. The code provides insights into the factors influencing coach salaries and offers \n",
        "meaningful answers to the questions posed in the analysis. It utilizes libraries such as pandas, numpy, seaborn, matplotlib, statsmodels,\n",
        "and scikit-learn."
      ],
      "metadata": {
        "id": "7_-ryjN5VIy2"
      }
    },
    {
      "cell_type": "code",
      "execution_count": null,
      "metadata": {
        "id": "8QjGt18K3Q8K"
      },
      "outputs": [],
      "source": [
        "#DSAHomeworkTwo\n",
        "\n",
        "# Author: [Binyam Ali]\n",
        "# Date: [06/10/2023]\n",
        "\n",
        "import numpy as np\n",
        "import pandas as pd\n",
        "\n",
        "# Obtain Data\n",
        "\n",
        "coaches = pd.read_csv('https://raw.githubusercontent.com/biniwollo/Homework2/main/coaches_bp_dsa.csv')\n",
        "stadium = pd.read_csv('https://raw.githubusercontent.com/biniwollo/Homework2/main/stadium_bp_dsa.csv')\n",
        "stats = pd.read_csv('https://raw.githubusercontent.com/biniwollo/Homework2/main/stats_bp_dsa.csv')\n",
        "\n",
        "print(coaches)\n",
        "#print(stadium)\n",
        "#print(stats)\n",
        "\n"
      ]
    },
    {
      "cell_type": "markdown",
      "source": [
        "**Data cleaning and preparatioin:**\n",
        "Handling missing values:\n",
        "check for missing values in the data frame\n",
        "\n",
        "\n"
      ],
      "metadata": {
        "id": "UF64ooybTNA6"
      }
    },
    {
      "cell_type": "code",
      "source": [
        "# Scrub Data\n",
        "\n",
        "# Handle missing values in coaches data frame\n",
        "coaches.dropna(inplace=True)  # Drop rows with missing values\n",
        "\n",
        "# Handle missing values in stadium data frame\n",
        "stadium.dropna(inplace=True)  # Drop rows with missing values\n",
        "\n",
        "# Handle missing values in stats data frame\n",
        "stats.fillna(0, inplace=True)  # Fill missing values with 0\n",
        "\n",
        "# Merge data frames\n",
        "merged_data = pd.merge(pd.merge(coaches, stadium, on='School'), stats, on='School')\n",
        "\n",
        "# Display the merged data frame\n",
        "print(\"\\nMerged data frame ------------------\")\n",
        "print(merged_data)"
      ],
      "metadata": {
        "id": "7KU44OYFSDwv"
      },
      "execution_count": null,
      "outputs": []
    },
    {
      "cell_type": "markdown",
      "source": [
        "**Data cleaning and preparatioin:**\n",
        "Convert data types:\n",
        "Ensure that the columns have the correct data type for analysis"
      ],
      "metadata": {
        "id": "lvb7GUMhUvE3"
      }
    },
    {
      "cell_type": "code",
      "source": [
        "# Scrub Data\n",
        "\n",
        "# Remove leading and trailing spaces from column names\n",
        "merged_data.columns = merged_data.columns.str.strip()\n",
        "\n",
        "# Remove commas and dollar signs from the \"TotalPay\" column\n",
        "merged_data['TotalPay'] = merged_data['TotalPay'].str.replace(',', '').str.replace('$', '')\n",
        "\n",
        "# Convert the \"TotalPay\" column to integer\n",
        "merged_data['TotalPay'] = merged_data['TotalPay'].astype(int)\n",
        "\n",
        "# Display the updated data frame\n",
        "print(\"\\nUpdated Merged data frame ------------------\")\n",
        "print(merged_data)\n",
        "\n"
      ],
      "metadata": {
        "id": "jLMsitjoBurp"
      },
      "execution_count": null,
      "outputs": []
    },
    {
      "cell_type": "markdown",
      "source": [
        "Summary statistics code uses the describe() function of Pandas, which provides summary statistics for numeric columns in a data frame. \n",
        "It includes count, mean, standard deviation,minimum value, \n",
        "25th percentile,median (50th percentile), \n",
        "75th percentile, and maximum value.\n",
        "\n",
        "when we run this code after merging and updating the data frame, it will calculate and display the summary statistics for the numeric columns in the merged_data data frame.\n"
      ],
      "metadata": {
        "id": "lvJNab0tbeHi"
      }
    },
    {
      "cell_type": "code",
      "source": [
        "# Explore Data\n",
        "# Summary statistics\n",
        "\n",
        "\n",
        "summary_stats = merged_data.describe()\n",
        "\n",
        "# Display the summary statistics\n",
        "print(\"\\nSummary Statistics ------------------\")\n",
        "print(summary_stats)\n"
      ],
      "metadata": {
        "id": "GbmE3Z2LberO"
      },
      "execution_count": null,
      "outputs": []
    },
    {
      "cell_type": "code",
      "source": [
        "#Explore Data - Compute value counts for a specific column\n",
        "\n",
        "# Compute value counts for a Conf_x column\n",
        "value_counts = merged_data['Conf_x'].value_counts()\n",
        "\n",
        "# Display the value counts\n",
        "print(value_counts)"
      ],
      "metadata": {
        "id": "PPqQ8QK6eAZU"
      },
      "execution_count": null,
      "outputs": []
    },
    {
      "cell_type": "code",
      "source": [
        "#Explore Data - Compute value counts for a specific column\n",
        "\n",
        "# Compute value counts for a TotalPay column\n",
        "value_counts = merged_data['TotalPay'].value_counts()\n",
        "\n",
        "# Display the value counts\n",
        "print(value_counts)"
      ],
      "metadata": {
        "id": "BK3FCfu7eKfF"
      },
      "execution_count": null,
      "outputs": []
    },
    {
      "cell_type": "code",
      "source": [
        "#Explore Data  - plot distribution of TotalPay\n",
        "\n",
        "import seaborn as sns\n",
        "import matplotlib.pyplot as plt\n",
        "\n",
        "# Distribution plot for TotalPay\n",
        "sns.histplot(merged_data['TotalPay'], kde=True)\n",
        "plt.title('Distribution of TotalPay')\n",
        "plt.xlabel('TotalPay')\n",
        "plt.ylabel('Frequency')\n",
        "plt.show()"
      ],
      "metadata": {
        "id": "rFSWvqfWffmv"
      },
      "execution_count": null,
      "outputs": []
    },
    {
      "cell_type": "code",
      "source": [
        "#Explore Data  - plot distribution of Graduation Rate(GSR)\n",
        "\n",
        "# Distribution plot for Graduation Rate (GSR)\n",
        "sns.histplot(merged_data['Graduation Rate (GSR)'], kde=True)\n",
        "plt.title('Distribution of Graduation Rate (GSR)')\n",
        "plt.xlabel('Graduation Rate (GSR)')\n",
        "plt.ylabel('Frequency')\n",
        "plt.show()"
      ],
      "metadata": {
        "id": "vnXK27Q4f5LE"
      },
      "execution_count": null,
      "outputs": []
    },
    {
      "cell_type": "code",
      "source": [
        "#Explore Data  - scatter plot TotalPay VS. Graduation Rate(GSR)\n",
        "\n",
        "# Scatter plot: TotalPay vs. Graduation Rate (GSR)\n",
        "sns.scatterplot(data=merged_data, x='TotalPay', y='Graduation Rate (GSR)')\n",
        "plt.title('TotalPay vs. Graduation Rate (GSR)')\n",
        "plt.xlabel('TotalPay')\n",
        "plt.ylabel('Graduation Rate (GSR)')\n",
        "plt.show()\n"
      ],
      "metadata": {
        "id": "SsxWe0ANgPIk"
      },
      "execution_count": null,
      "outputs": []
    },
    {
      "cell_type": "code",
      "source": [
        "#Explore Data  - scatter plot PointsPerGame VS. Score\n",
        "\n",
        "# Scatter plot: PointsPerGame vs. Score\n",
        "sns.scatterplot(data=merged_data, x='PointsPerGame', y='Score')\n",
        "plt.title('PointsPerGame vs. Score')\n",
        "plt.xlabel('PointsPerGame')\n",
        "plt.ylabel('Score')\n",
        "plt.show()"
      ],
      "metadata": {
        "id": "OZHhWzvTg7AP"
      },
      "execution_count": null,
      "outputs": []
    },
    {
      "cell_type": "code",
      "source": [
        "#Explore - Correleation between TotalPay, Graduation Rate (GSR), PointsPerGame and Score\n",
        "\n",
        "# Correlation matrix\n",
        "correlation_matrix = merged_data[['TotalPay', 'Graduation Rate (GSR)', 'PointsPerGame', 'Score']].corr()\n",
        "sns.heatmap(correlation_matrix, annot=True, cmap='coolwarm')\n",
        "plt.title('Correlation Matrix')\n",
        "plt.show()"
      ],
      "metadata": {
        "id": "yqlWyxIzhRYi"
      },
      "execution_count": null,
      "outputs": []
    },
    {
      "cell_type": "markdown",
      "source": [
        "Fit a regression model with the salary as the response variable:\n",
        "\n",
        "We use of the statsmodels library to perform a linear regression analysis. "
      ],
      "metadata": {
        "id": "2qZLFO5Nmkqk"
      }
    },
    {
      "cell_type": "code",
      "source": [
        "import statsmodels.api as sm\n",
        "\n",
        "# Define the dependent variable\n",
        "y = merged_data['TotalPay']\n",
        "\n",
        "# Define the independent variables\n",
        "X = merged_data[['Graduation Rate (GSR)', 'PointsPerGame']]\n",
        "\n",
        "# Add a constant term to the independent variables\n",
        "X = sm.add_constant(X)\n",
        "\n",
        "# Fit the linear regression model\n",
        "model = sm.OLS(y, X).fit()\n",
        "\n",
        "# Print the model summary\n",
        "print(model.summary())\n",
        "\n"
      ],
      "metadata": {
        "id": "_0Q4i_z5bW2A"
      },
      "execution_count": null,
      "outputs": []
    },
    {
      "cell_type": "markdown",
      "source": [
        "The following code builds a linear regression model using the scikit-learn library. It splits the data into training and test sets, trains the model, makes predictions, and evaluates its performance using mean squared error and R-squared metrics."
      ],
      "metadata": {
        "id": "mHlbRpjqo_mD"
      }
    },
    {
      "cell_type": "code",
      "source": [
        "from sklearn.linear_model import LinearRegression\n",
        "from sklearn.model_selection import train_test_split\n",
        "from sklearn.metrics import mean_squared_error, r2_score\n",
        "\n",
        "# Define the dependent variable\n",
        "y = merged_data['TotalPay']\n",
        "\n",
        "# Define the independent variables\n",
        "X = merged_data[['Graduation Rate (GSR)', 'PointsPerGame']]\n",
        "\n",
        "# Split the data into training and test sets\n",
        "X_train, X_test, y_train, y_test = train_test_split(X, y, test_size=0.2, random_state=42)\n",
        "\n",
        "# Create a linear regression model\n",
        "model = LinearRegression()\n",
        "\n",
        "# Fit the model to the training data\n",
        "model.fit(X_train, y_train)\n",
        "\n",
        "# Make predictions on the test data\n",
        "y_pred = model.predict(X_test)\n",
        "\n",
        "# Evaluate the model\n",
        "mse = mean_squared_error(y_test, y_pred)\n",
        "r2 = r2_score(y_test, y_pred)\n",
        "\n",
        "# Print the evaluation metrics\n",
        "print(\"Mean Squared Error:\", mse)\n",
        "print(\"R-squared:\", r2)"
      ],
      "metadata": {
        "colab": {
          "base_uri": "https://localhost:8080/"
        },
        "id": "2h-Vz_2ljoDT",
        "outputId": "3ff0444f-466a-4439-b4ac-688965a8cc6f"
      },
      "execution_count": 94,
      "outputs": [
        {
          "output_type": "stream",
          "name": "stdout",
          "text": [
            "Mean Squared Error: 2516410876269.1553\n",
            "R-squared: -0.18483227315930328\n"
          ]
        }
      ]
    },
    {
      "cell_type": "markdown",
      "source": [
        "**Question 1:**\n",
        "What is the recommended salary for the OU football coach? \n",
        "\n",
        "**Note:**\n",
        "\n",
        "According to a Google search, the graduation rate for OU in the 2020-21 academic year was 67.5%. Additionally, the average points per game in 2021 were 36. By utilizing these two figures in a linear regression model, a recommended salary for the OU football coach was predicted"
      ],
      "metadata": {
        "id": "aoi7qaMPqyD2"
      }
    },
    {
      "cell_type": "code",
      "source": [
        "# Question 1\n",
        "# Assume GSR and PointsPerGame values\n",
        "gsr = 67.5\n",
        "ppg = 36\n",
        "\n",
        "# Create a new data point with the assumed values\n",
        "new_data = pd.DataFrame({'Graduation Rate (GSR)': [gsr], 'PointsPerGame': [ppg]})\n",
        "\n",
        "# Predict the salary using the regression model\n",
        "predicted_salary = model.predict(new_data)\n",
        "\n",
        "# Print the predicted salary\n",
        "print(\"Recommended Salary: $\", predicted_salary[0])"
      ],
      "metadata": {
        "colab": {
          "base_uri": "https://localhost:8080/"
        },
        "id": "RJ_IlealpOnh",
        "outputId": "09d9b898-c960-4980-c456-d99d57ba3d9b"
      },
      "execution_count": 95,
      "outputs": [
        {
          "output_type": "stream",
          "name": "stdout",
          "text": [
            "Recommended Salary: $ 1568727.5348648978\n"
          ]
        }
      ]
    },
    {
      "cell_type": "markdown",
      "source": [
        "**Answer:**\n",
        "The recommended salary for the OU football coach *$ 1,568,727.53.*"
      ],
      "metadata": {
        "id": "SnR2k5krprKD"
      }
    },
    {
      "cell_type": "markdown",
      "source": [
        "**Question 2:**\n",
        "What would the appropriate salary be if OU moved to the SEC?\n",
        "\n",
        "**Note:**\n",
        "To determine the appropriate salary for the OU football coach if they moved to the SEC, first, we will determine the average graduation rate (GSR) and Points Per Game in the SEC. Then, we can use these values to predict the salary using the regression model created above."
      ],
      "metadata": {
        "id": "5KOZqjRqrkM0"
      }
    },
    {
      "cell_type": "code",
      "source": [
        "# To determine the average graduation rate (GSR) and Points Per Game in the SEC\n",
        "\n",
        "# Compute the average for a specific column\n",
        "\n",
        "average_values = merged_data.groupby('Conf_x')['PointsPerGame'].mean()\n",
        "# Display the average values\n",
        "print(\"The average Points Per Game by conferecne:\", average_values)\n",
        "\n",
        "#The verage Points Per Game in the SEC = 72.86\n",
        "\n",
        "average_values = merged_data.groupby('Conf_x')['Graduation Rate (GSR)'].mean()\n",
        "# Display the average values\n",
        "print(\"The average Graduation Rate by conferecne:\", average_values)\n",
        "\n",
        "#The verage graduation rate (GSR)SEC = 75.77"
      ],
      "metadata": {
        "id": "NPWXqi8ut0qQ"
      },
      "execution_count": null,
      "outputs": []
    },
    {
      "cell_type": "code",
      "source": [
        "#To determine the appropriate salary for the OU football coach if they moved to the SEC\n",
        "\n",
        "# average GSR and PointsPerGame values for the SEC\n",
        "avg_gsr_sec = 75.77\n",
        "avg_ppg_sec = 72.86\n",
        "\n",
        "# Create a new data point with the assumed SEC values\n",
        "sec_data = pd.DataFrame({'Graduation Rate (GSR)': [avg_gsr_sec], 'PointsPerGame': [avg_ppg_sec]})\n",
        "\n",
        "# Predict the salary using the regression model\n",
        "predicted_salary_sec = model.predict(sec_data)\n",
        "\n",
        "# Print the predicted salary for the SEC scenario\n",
        "print(\"Appropriate Salary in SEC: $\", predicted_salary_sec[0])\n",
        "\n"
      ],
      "metadata": {
        "colab": {
          "base_uri": "https://localhost:8080/"
        },
        "id": "IvLTd2Bz6O97",
        "outputId": "29635170-51d4-4f5a-a68f-8387c79a81a9"
      },
      "execution_count": 97,
      "outputs": [
        {
          "output_type": "stream",
          "name": "stdout",
          "text": [
            "Appropriate Salary in SEC: $ 2783310.0078133917\n"
          ]
        }
      ]
    },
    {
      "cell_type": "markdown",
      "source": [
        "**Answer:**\n",
        "\n",
        "\n",
        "Answer: \n",
        "The recommended salary for the OU football coach if OU moved to the SEC is $ 2,783,310.00.\n",
        "\n"
      ],
      "metadata": {
        "id": "VSsEodTZ61Ej"
      }
    },
    {
      "cell_type": "markdown",
      "source": [
        "**Question 3:** What schools did we drop from our data and why?\n",
        "\n",
        "To show the dropped schools after handling missing values in the coaches data frame, we can compare the original coaches data frame with the updated merged data frame."
      ],
      "metadata": {
        "id": "h4xOJGlC8BVb"
      }
    },
    {
      "cell_type": "code",
      "source": [
        "#comparing the orginal coaches data to the updated merged data frame\n",
        "\n",
        "# ... Previous code ...\n",
        "\n",
        "# Create a list of dropped schools\n",
        "dropped_schools = list(set(coaches['School']) - set(merged_data['School']))\n",
        "\n",
        "# Display the dropped schools\n",
        "print(\"\\nDropped Schools:\")\n",
        "for school in dropped_schools:\n",
        "    print(school)\n"
      ],
      "metadata": {
        "colab": {
          "base_uri": "https://localhost:8080/"
        },
        "id": "vDWZyfhzrgrr",
        "outputId": "9375f584-f3d1-4a05-a84b-995d5ba3d91b"
      },
      "execution_count": 104,
      "outputs": [
        {
          "output_type": "stream",
          "name": "stdout",
          "text": [
            "\n",
            "Dropped Schools:\n",
            "Temple\n",
            "Brigham Young\n",
            "Southern Methodist\n",
            "Baylor\n",
            "Tennessee\n"
          ]
        }
      ]
    },
    {
      "cell_type": "markdown",
      "source": [
        "**Answer:**\n",
        "We have dropped the following schools\n",
        "\n",
        "\n",
        "1. Temple\n",
        "2. Brigham Young\n",
        "3. Southern Methodist\n",
        "4. Baylor\n",
        "5. Tennessee\n",
        "\n",
        "\n",
        "The schools might have been dropped because they had missing values in either the coaches data frame, stadium data frame, or both. The dropna() function is used to remove rows that contain missing values from a data frame.\n",
        "\n",
        "If a school had missing values in either the coaches data frame or stadium data frame, it would be dropped during the merge operation because the merge is performed based on the 'School' column. Only the schools that have complete data in both data frames will be included in the merged_data data frame.\n",
        "\n",
        "This approach ensures that the resulting merged_data data frame only contains data for schools that have complete information in terms of coaches, stadiums, and stats.\n",
        "\n",
        "\n",
        "\n",
        "\n"
      ],
      "metadata": {
        "id": "xtn0trRyJ1Ny"
      }
    },
    {
      "cell_type": "markdown",
      "source": [
        "**Question 4:** What is the single biggest impact on salary size?\n",
        "\n",
        "**Note:**\n",
        "To determine the single biggest impact on salary size, you can look at the coefficient values from the linear regression model. The coefficient represents the change in the dependent variable (salary) for a unit change in the corresponding independent variable while holding other variables constant."
      ],
      "metadata": {
        "id": "2wV29pRpOb8b"
      }
    },
    {
      "cell_type": "code",
      "source": [
        "# Extract the coefficients from the linear regression model\n",
        "coefficients = model.coef_\n",
        "\n",
        "# Get the feature names from the X dataframe\n",
        "feature_names = X.columns\n",
        "\n",
        "# Create a dictionary with variable names and their coefficients\n",
        "coefficients_dict = dict(zip(feature_names, coefficients))\n",
        "\n",
        "# Sort the coefficients in descending order based on their absolute values\n",
        "sorted_coefficients = sorted(coefficients_dict.items(), key=lambda x: abs(x[1]), reverse=True)\n",
        "\n",
        "# Print the variable with the largest impact on salary size\n",
        "print(\"Variable with the largest impact on salary size:\")\n",
        "print(sorted_coefficients[0])"
      ],
      "metadata": {
        "colab": {
          "base_uri": "https://localhost:8080/"
        },
        "id": "tp4CvLsDO2rg",
        "outputId": "f6a8b890-aa9d-45cf-f412-05ba729fd002"
      },
      "execution_count": 106,
      "outputs": [
        {
          "output_type": "stream",
          "name": "stdout",
          "text": [
            "Variable with the largest impact on salary size:\n",
            "('PointsPerGame', 28196.357091131875)\n"
          ]
        }
      ]
    },
    {
      "cell_type": "markdown",
      "source": [
        "**Answer: **\n",
        "\n",
        "The variable with the single biggest impact on salary sizeis '**PointsPerGame**'. Its coefficient value is *28196.357091131875*, indicating that for every unit increase in 'PointsPerGame', the salary size is expected to increase by approximately 28196.36 units. \n",
        "\n",
        "Therefore, '**PointsPerGame'** has the largest positive impact on the salary size in the linear regression model.\n"
      ],
      "metadata": {
        "id": "1cpPVv7oR7dQ"
      }
    }
  ]
}